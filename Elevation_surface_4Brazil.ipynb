{
  "nbformat": 4,
  "nbformat_minor": 0,
  "metadata": {
    "colab": {
      "provenance": [],
      "authorship_tag": "ABX9TyPS5xXOTXgCV5J6BpE3EO/5"
    },
    "kernelspec": {
      "name": "python3",
      "display_name": "Python 3"
    },
    "language_info": {
      "name": "python"
    }
  },
  "cells": [
    {
      "cell_type": "markdown",
      "source": [
        "Marlon F. Souza built this code for data preprocessing of the analysis in the article \"Port regionalization for agricultural commodities: Mapping exporting port hinterlands\". Please give the credits if using.\n",
        "\n",
        "The code was prepared to run in Google Colab."
      ],
      "metadata": {
        "id": "2RcXK-gy9Uqi"
      }
    },
    {
      "cell_type": "markdown",
      "metadata": {
        "id": "tJmFhqtUZqtB"
      },
      "source": [
        "## Libraries"
      ]
    },
    {
      "cell_type": "code",
      "metadata": {
        "id": "ENOUjQLAvst_"
      },
      "source": [
        "# importing basic libraries\n",
        "import os\n",
        "import numpy as np\n",
        "import pandas as pd\n",
        "import matplotlib.pyplot as plt\n",
        "\n",
        "# importing the library for raster files download\n",
        "import requests"
      ],
      "execution_count": null,
      "outputs": []
    },
    {
      "cell_type": "code",
      "metadata": {
        "id": "2jsNtSOHY9q7"
      },
      "source": [
        "# installing libraries \n",
        "!pip install geopandas\n",
        "!pip install rasterio"
      ],
      "execution_count": null,
      "outputs": []
    },
    {
      "cell_type": "code",
      "metadata": {
        "id": "JYFpx2Rn4tx_"
      },
      "source": [
        "# importing GIS libraries\n",
        "import geopandas as gpd\n",
        "import fiona\n",
        "import rasterio\n",
        "from rasterio.merge import merge\n",
        "from rasterio.plot import show\n",
        "from rasterio.enums import Resampling\n",
        "from rasterio.mask import mask"
      ],
      "execution_count": null,
      "outputs": []
    },
    {
      "cell_type": "markdown",
      "metadata": {
        "id": "CPYIgSZuBALI"
      },
      "source": [
        "## Mount the Google drive and indicate the folder with the files"
      ]
    },
    {
      "cell_type": "code",
      "metadata": {
        "id": "IicdEgovO58_"
      },
      "source": [
        "# mounting drive\n",
        "from google.colab import drive\n",
        "drive.mount('/content/drive')\n",
        "\n",
        "# defining the working directory\n",
        "os.chdir('/content/drive/MyDrive/your_folder')\n",
        "os.listdir('/content/drive/MyDrive/your_folder')"
      ],
      "execution_count": null,
      "outputs": []
    },
    {
      "cell_type": "markdown",
      "metadata": {
        "id": "tVnwUuG6Z3hd"
      },
      "source": [
        "## Define function for downloading TOPODATA INPE files"
      ]
    },
    {
      "cell_type": "code",
      "metadata": {
        "id": "FqkcuMQIec4T"
      },
      "source": [
        "def baixar_arquivo(url, endereco, arquivo):\n",
        "    resposta = requests.get(url, stream=True)\n",
        "    if resposta.status_code == requests.codes.OK:\n",
        "        with open(endereco, 'wb') as novo_arquivo:\n",
        "                for parte in resposta.iter_content(chunk_size=256):\n",
        "                    novo_arquivo.write(parte)\n",
        "        print(\"Download of the file {} finished.\".format(arquivo))\n",
        "    else:\n",
        "        resposta.raise_for_status()"
      ],
      "execution_count": null,
      "outputs": []
    },
    {
      "cell_type": "markdown",
      "metadata": {
        "id": "wsOkJ5aZNnDm"
      },
      "source": [
        "## Define function for resampling downloaded raster files"
      ]
    },
    {
      "cell_type": "code",
      "metadata": {
        "id": "n6yRJnGtKy5N"
      },
      "source": [
        "def reamostragem(tile, caminho_dest, nome_arquivo):\n",
        "    resampled_tile = tile.read(\n",
        "    out_shape=(tile.count, int(tile.height * upscale_factor), int(tile.width * upscale_factor)),\n",
        "    resampling=Resampling.average) #downsample each tile\n",
        "\n",
        "    transform = tile.transform * tile.transform.scale(\n",
        "        (tile.width / resampled_tile.shape[-1]),\n",
        "        (tile.height / resampled_tile.shape[-2])\n",
        "        )\n",
        "\n",
        "    out_meta = tile.meta.copy() # Copy the metadata\n",
        "    # Update the metadata\n",
        "    out_meta.update({\"driver\": \"GTiff\",\n",
        "                    \"height\": resampled_tile.shape[1],\n",
        "                    \"width\": resampled_tile.shape[2],\n",
        "                    \"transform\": transform,\n",
        "                    \"crs\": \"+proj=longlat +ellps=WGS84 +datum=WGS84 +no_defs\",                    \n",
        "                    }\n",
        "                    )\n",
        "    with rasterio.open(caminho_dest+nome_arquivo+'.tif', 'w', **out_meta) as dest_f:\n",
        "      dest_f.write(resampled_tile)\n",
        "    print('Raster {} extraído.'.format(nome_arquivo))"
      ],
      "execution_count": null,
      "outputs": []
    },
    {
      "cell_type": "markdown",
      "metadata": {
        "id": "CbSA2qLYiLyT"
      },
      "source": [
        "## Read the file (shp or gdb) with TOPODATA tiles\n",
        "### Tiles can be found in http://www.dsr.inpe.br/topodata/acesso.php\n",
        "### We use Brazilian states to split the grid and avoid download issues by downloading a smaller data set each time. "
      ]
    },
    {
      "cell_type": "code",
      "metadata": {
        "id": "sDF-8BsWjPTC"
      },
      "source": [
        "# Get all the layers from the .gdb file \n",
        "layers = fiona.listlayers('TOPODATA_tiles.gdb')\n",
        "\n",
        "layers"
      ],
      "execution_count": null,
      "outputs": []
    },
    {
      "cell_type": "code",
      "metadata": {
        "id": "eO9YyFWCZwXC"
      },
      "source": [
        "# read brazilian states shapefile\n",
        "UFs = gpd.read_file('zip:///content/drive/MyDrive/your_folder/lm_ufs_bc250_IBGE.zip!lm_ufs_Brasil.shp')\n",
        "UFs.plot();"
      ],
      "execution_count": null,
      "outputs": []
    },
    {
      "cell_type": "markdown",
      "source": [
        "## Main code"
      ],
      "metadata": {
        "id": "y_C8OklCJyl1"
      }
    },
    {
      "cell_type": "code",
      "metadata": {
        "id": "4XeTcF_biTLE"
      },
      "source": [
        "upscale_factor = 1/10 # The factor that each tile will be downsampled. For upscale use a number > 1\n",
        "# For downscale use a fraction or a number between 0-1\n",
        "diretorio = '/content/drive/MyDrive/your_folder/'\n",
        "\n",
        "# loop for download, extract, and downsampling by state\n",
        "for layer in layers:\n",
        "    shape = UFs.loc[UFs.UF==layer].geometry\n",
        "    gdf = gpd.read_file('TOPODATA_tiles.gdb',layer=layer)\n",
        "    print('###################################################################')\n",
        "    print('Downloading files of'+layer)\n",
        "\n",
        "    caminho = diretorio+'TOPODATA/' # folder to save the downloaded tiles\n",
        "    if not os.path.exists(caminho): # Check if the folder exists\n",
        "        os.mkdir(caminho) # Create new folder if it does not exist\n",
        "\n",
        "    caminho_dest = diretorio+'TOPODATA_downsampled_tiles_300x300/' # folder to save rasters after extraction and downsampling\n",
        "    if not os.path.exists(caminho_dest): # Check if the folder exists\n",
        "      os.mkdir(caminho_dest) # Create new folder if it does not exist\n",
        "\n",
        "    caminho_final = diretorio+'mosaico_UF/' # folder to save mosaics by UFs\n",
        "    if not os.path.exists(caminho_final): # Check if the folder exists\n",
        "      os.mkdir(caminho_final) # Create new folder if it does not exist\n",
        "\n",
        "    # Downloading and checking zipped raster files by UF \n",
        "    lista_id = [id[:6] for id in gdf['TOPO_ID']] # creates a list with all UF tiles limiting the ID to 6 characters\n",
        "    while True: # Creates a loop that analyzes the folder where files are saved to know when the program should stop\n",
        "      files_done = (os.listdir(caminho)) # List of files that were successfully downloaded\n",
        "      files_UF = [s + 'ZN.zip' for s in lista_id] # List of all files covering a state\n",
        "      files_remain = np.setdiff1d(files_UF, files_done) # Files that have not yet been downloaded\n",
        "      print('Remaining downloads: {}'.format(len(files_remain))) # Shows the amount of files remaining\n",
        "    \n",
        "      if len(files_remain) == 0: # If there are no more files left, the loop will be terminated\n",
        "          print('The {} download is complete! Congrats!'.format(layer))\n",
        "          break # ends the loop\n",
        "      \n",
        "      for i in files_remain:\n",
        "          url = 'http://www.dsr.inpe.br/topodata/data/geotiff/'+i # url for download\n",
        "          endereco = caminho+'/'+i # path to save downloaded files\n",
        "          baixar_arquivo(url, endereco, i) # download file function\n",
        "\n",
        "    # Extracting and downsamling the raster files\n",
        "    while True: # Creates a loop that analyzes the folder to know when the program should stop\n",
        "      files_done = (os.listdir(caminho_dest)) # List of files that were successfully resampled\n",
        "      files_UF = [s + 'ZN.tif' for s in lista_id] # List of all files of the state\n",
        "      files_remain = np.setdiff1d(files_UF, files_done) # Files that have not yet been resampled\n",
        "      print('Extraction and resampling remaining: {}'.format(len(files_remain))) # Shows the amount of files remaining\n",
        "\n",
        "      if len(files_remain) == 0: # If there are no more files left, the loop will be terminated\n",
        "        print('The {} downsampling is complete! Congratulations!'.format(layer))\n",
        "        print('###################################################################')\n",
        "        break # ends the loop for extracting and resampling\n",
        "      \n",
        "      for i in files_remain:    \n",
        "        endereco = caminho+i[:8]+'.zip'\n",
        "        raster_path = 'zip://'+endereco+'!'+i[:8]+'.tif'# extracting zip\n",
        "        print(raster_path)\n",
        "        tile = rasterio.open(raster_path) # opening raster files\n",
        "        reamostragem(tile, caminho_dest, i[:8]) # resampling function\n",
        "\n",
        "    # files to merge into the DEM for each UF\n",
        "    raster_name = caminho_final+'DEM_300x300_'+layer+'.tif'\n",
        "    if not os.path.exists(raster_name):\n",
        "      src_files_to_mosaic = []\n",
        "      for grade in list(set(files_UF)):\n",
        "        raster_path = caminho_dest+grade[:8]+'.tif'# path of the resampled raster\n",
        "        print(raster_path)\n",
        "        src = rasterio.open(raster_path) # opening raster files\n",
        "        src_files_to_mosaic.append(src) # gathering the files for mosaic\n",
        "\n",
        "      mosaic, out_trans = merge(src_files_to_mosaic) # mosaic\n",
        "\n",
        "      out_meta = src.meta.copy() # Copy the metadata\n",
        "      # Update the metadata\n",
        "      out_meta.update({\"driver\": \"GTiff\",\n",
        "                      \"height\": mosaic.shape[1],\n",
        "                      \"width\": mosaic.shape[2],\n",
        "                      \"transform\": out_trans,\n",
        "                      \"crs\": \"+proj=longlat +ellps=WGS84 +datum=WGS84 +no_defs\",                    \n",
        "                      })\n",
        "      \n",
        "      # Write the mosaic raster to disk\n",
        "      with rasterio.open(raster_name, \"w\", **out_meta) as dest:\n",
        "        dest.write(mosaic)\n",
        "\n",
        "    # extract by mask\n",
        "    mosaico_UF_final = caminho_final+'DEM_300x300_'+layer+'_masked.tif'\n",
        "    if not os.path.exists(mosaico_UF_final):\n",
        "      with rasterio.open(caminho_final+'DEM_300x300_'+layer+'.tif') as mosaico:\n",
        "        out_image, out_transform = mask(mosaico, shape, crop=True)\n",
        "        out_meta = mosaico.meta\n",
        "      \n",
        "      out_meta.update({\"driver\": \"GTiff\",\n",
        "                      \"height\": out_image.shape[1],\n",
        "                      \"width\": out_image.shape[2],\n",
        "                      \"transform\": out_transform})\n",
        "      \n",
        "      # Plot the result\n",
        "      show(out_image, cmap='terrain')\n",
        "      \n",
        "      # Write the masked mosaic to disk\n",
        "      with rasterio.open(mosaico_UF_final, \"w\", **out_meta) as dest:\n",
        "          dest.write(out_image)"
      ],
      "execution_count": null,
      "outputs": []
    },
    {
      "cell_type": "markdown",
      "source": [
        "To have the final DEM raster file, the files from each state must be mosaiced and clipped with a mask of the Brazilian frontier."
      ],
      "metadata": {
        "id": "isR1G3z5Oni9"
      }
    }
  ]
}